{
  "nbformat": 4,
  "nbformat_minor": 0,
  "metadata": {
    "colab": {
      "name": "ДЗ-3_Григорьев.ipynb",
      "provenance": [],
      "collapsed_sections": []
    },
    "kernelspec": {
      "name": "python3",
      "display_name": "Python 3"
    },
    "language_info": {
      "name": "python"
    }
  },
  "cells": [
    {
      "cell_type": "markdown",
      "source": [
        "# Устанавливаем java и ChromHmm"
      ],
      "metadata": {
        "id": "vRciyzvPEDLD"
      }
    },
    {
      "cell_type": "code",
      "source": [
        "!curl -O https://raw.githubusercontent.com/deepjavalibrary/d2l-java/master/tools/fix-colab-gpu.sh && bash fix-colab-gpu.sh"
      ],
      "metadata": {
        "colab": {
          "base_uri": "https://localhost:8080/"
        },
        "id": "1O3GJ3Gys7Tm",
        "outputId": "127bc96c-be1e-453a-b93d-02b27dfff720"
      },
      "execution_count": 1,
      "outputs": [
        {
          "output_type": "stream",
          "name": "stdout",
          "text": [
            "  % Total    % Received % Xferd  Average Speed   Time    Time     Time  Current\n",
            "                                 Dload  Upload   Total   Spent    Left  Speed\n",
            "100   155  100   155    0     0    752      0 --:--:-- --:--:-- --:--:--   748\n",
            "nvcc: NVIDIA (R) Cuda compiler driver\n",
            "Copyright (c) 2005-2019 NVIDIA Corporation\n",
            "Built on Sun_Jul_28_19:07:16_PDT_2019\n",
            "Cuda compilation tools, release 10.1, V10.1.243\n"
          ]
        }
      ]
    },
    {
      "cell_type": "code",
      "execution_count": 2,
      "metadata": {
        "colab": {
          "base_uri": "https://localhost:8080/"
        },
        "id": "NxS1Mv5WquOV",
        "outputId": "fa6327ee-e89c-42d5-eedb-5f7c44aa85f6"
      },
      "outputs": [
        {
          "output_type": "stream",
          "name": "stdout",
          "text": [
            "  % Total    % Received % Xferd  Average Speed   Time    Time     Time  Current\n",
            "                                 Dload  Upload   Total   Spent    Left  Speed\n",
            "\r  0     0    0     0    0     0      0      0 --:--:-- --:--:-- --:--:--     0\r100   520  100   520    0     0   2937      0 --:--:-- --:--:-- --:--:--  2937\n",
            "Update environment...\n",
            "Install Java...\n",
            "Install Jupyter java kernel...\n"
          ]
        }
      ],
      "source": [
        "!curl -O https://raw.githubusercontent.com/deepjavalibrary/d2l-java/master/tools/colab_build.sh && bash colab_build.sh"
      ]
    },
    {
      "cell_type": "code",
      "source": [
        "!java --list-modules | grep \"jdk.jshell\"\n"
      ],
      "metadata": {
        "colab": {
          "base_uri": "https://localhost:8080/"
        },
        "id": "_NrPS924rQFX",
        "outputId": "7f19e695-263e-4e14-e1f6-238833c79220"
      },
      "execution_count": 3,
      "outputs": [
        {
          "output_type": "stream",
          "name": "stdout",
          "text": [
            "jdk.jshell@11.0.14\n"
          ]
        }
      ]
    },
    {
      "cell_type": "code",
      "source": [
        "! wget http://compbio.mit.edu/ChromHMM/ChromHMM.zip"
      ],
      "metadata": {
        "colab": {
          "base_uri": "https://localhost:8080/"
        },
        "id": "zCdYYvCJrpRt",
        "outputId": "e816d5ef-ed42-4b4d-93c9-eeee1a35e88b"
      },
      "execution_count": 4,
      "outputs": [
        {
          "output_type": "stream",
          "name": "stdout",
          "text": [
            "--2022-03-27 17:04:11--  http://compbio.mit.edu/ChromHMM/ChromHMM.zip\n",
            "Resolving compbio.mit.edu (compbio.mit.edu)... 128.30.2.44\n",
            "Connecting to compbio.mit.edu (compbio.mit.edu)|128.30.2.44|:80... connected.\n",
            "HTTP request sent, awaiting response... 200 OK\n",
            "Length: 42396742 (40M) [application/zip]\n",
            "Saving to: ‘ChromHMM.zip’\n",
            "\n",
            "ChromHMM.zip        100%[===================>]  40.43M  23.9MB/s    in 1.7s    \n",
            "\n",
            "2022-03-27 17:04:13 (23.9 MB/s) - ‘ChromHMM.zip’ saved [42396742/42396742]\n",
            "\n"
          ]
        }
      ]
    },
    {
      "cell_type": "code",
      "source": [
        "!unzip /content/ChromHMM.zip"
      ],
      "metadata": {
        "id": "gF4uI2bvvEN2",
        "colab": {
          "base_uri": "https://localhost:8080/"
        },
        "outputId": "f3032f1b-c3a5-4dad-d95a-6caedf2dda47"
      },
      "execution_count": 5,
      "outputs": [
        {
          "output_type": "stream",
          "name": "stdout",
          "text": [
            "Archive:  /content/ChromHMM.zip\n",
            "   creating: ChromHMM/ANCHORFILES/\n",
            "   creating: ChromHMM/ANCHORFILES/ce10/\n",
            "  inflating: ChromHMM/ANCHORFILES/ce10/RefSeqTES.ce10.txt.gz  \n",
            "  inflating: ChromHMM/ANCHORFILES/ce10/RefSeqTSS.ce10.txt.gz  \n",
            "   creating: ChromHMM/ANCHORFILES/ce11/\n",
            "  inflating: ChromHMM/ANCHORFILES/ce11/RefSeqTES.ce11.txt.gz  \n",
            "  inflating: ChromHMM/ANCHORFILES/ce11/RefSeqTSS.ce11.txt.gz  \n",
            "   creating: ChromHMM/ANCHORFILES/ce6/\n",
            "  inflating: ChromHMM/ANCHORFILES/ce6/RefSeqTES.ce6.txt.gz  \n",
            "  inflating: ChromHMM/ANCHORFILES/ce6/RefSeqTSS.ce6.txt.gz  \n",
            "   creating: ChromHMM/ANCHORFILES/danRer10/\n",
            "  inflating: ChromHMM/ANCHORFILES/danRer10/RefSeqTES.danRer10.txt.gz  \n",
            "  inflating: ChromHMM/ANCHORFILES/danRer10/RefSeqTSS.danRer10.txt.gz  \n",
            "   creating: ChromHMM/ANCHORFILES/danRer11/\n",
            "  inflating: ChromHMM/ANCHORFILES/danRer11/RefSeqTES.danRer11.txt.gz  \n",
            "  inflating: ChromHMM/ANCHORFILES/danRer11/RefSeqTSS.danRer11.txt.gz  \n",
            "   creating: ChromHMM/ANCHORFILES/danRer7/\n",
            "  inflating: ChromHMM/ANCHORFILES/danRer7/RefSeqTES.danRer7.txt.gz  \n",
            "  inflating: ChromHMM/ANCHORFILES/danRer7/RefSeqTSS.danRer7.txt.gz  \n",
            "   creating: ChromHMM/ANCHORFILES/dm3/\n",
            "  inflating: ChromHMM/ANCHORFILES/dm3/RefSeqTES.dm3.txt.gz  \n",
            "  inflating: ChromHMM/ANCHORFILES/dm3/RefSeqTSS.dm3.txt.gz  \n",
            "   creating: ChromHMM/ANCHORFILES/dm6/\n",
            "  inflating: ChromHMM/ANCHORFILES/dm6/RefSeqTES.dm6.txt.gz  \n",
            "  inflating: ChromHMM/ANCHORFILES/dm6/RefSeqTSS.dm6.txt.gz  \n",
            "   creating: ChromHMM/ANCHORFILES/hg18/\n",
            "  inflating: ChromHMM/ANCHORFILES/hg18/RefSeqTES.hg18.txt.gz  \n",
            "  inflating: ChromHMM/ANCHORFILES/hg18/RefSeqTSS.hg18.txt.gz  \n",
            "   creating: ChromHMM/ANCHORFILES/hg19/\n",
            "  inflating: ChromHMM/ANCHORFILES/hg19/RefSeqTES.hg19.txt.gz  \n",
            "  inflating: ChromHMM/ANCHORFILES/hg19/RefSeqTSS.hg19.txt.gz  \n",
            "   creating: ChromHMM/ANCHORFILES/hg38/\n",
            "  inflating: ChromHMM/ANCHORFILES/hg38/RefSeqTES.hg38.txt.gz  \n",
            "  inflating: ChromHMM/ANCHORFILES/hg38/RefSeqTSS.hg38.txt.gz  \n",
            "   creating: ChromHMM/ANCHORFILES/mm10/\n",
            "  inflating: ChromHMM/ANCHORFILES/mm10/RefSeqTES.mm10.txt.gz  \n",
            "  inflating: ChromHMM/ANCHORFILES/mm10/RefSeqTSS.mm10.txt.gz  \n",
            "   creating: ChromHMM/ANCHORFILES/mm9/\n",
            "  inflating: ChromHMM/ANCHORFILES/mm9/RefSeqTES.mm9.txt.gz  \n",
            "  inflating: ChromHMM/ANCHORFILES/mm9/RefSeqTSS.mm9.txt.gz  \n",
            "   creating: ChromHMM/ANCHORFILES/rn5/\n",
            "  inflating: ChromHMM/ANCHORFILES/rn5/RefSeqTES.rn5.txt.gz  \n",
            "  inflating: ChromHMM/ANCHORFILES/rn5/RefSeqTSS.rn5.txt.gz  \n",
            "   creating: ChromHMM/ANCHORFILES/rn6/\n",
            "  inflating: ChromHMM/ANCHORFILES/rn6/RefSeqTES.rn6.txt.gz  \n",
            "  inflating: ChromHMM/ANCHORFILES/rn6/RefSeqTSS.rn6.txt.gz  \n",
            "  inflating: ChromHMM/ChromHMM.jar   \n",
            "  inflating: ChromHMM/ChromHMM_manual.pdf  \n",
            "   creating: ChromHMM/CHROMSIZES/\n",
            "  inflating: ChromHMM/CHROMSIZES/ce10.txt  \n",
            "  inflating: ChromHMM/CHROMSIZES/ce11.txt  \n",
            "  inflating: ChromHMM/CHROMSIZES/ce6.txt  \n",
            "  inflating: ChromHMM/CHROMSIZES/danRer10.txt  \n",
            "  inflating: ChromHMM/CHROMSIZES/danRer11.txt  \n",
            "  inflating: ChromHMM/CHROMSIZES/danRer7.txt  \n",
            "  inflating: ChromHMM/CHROMSIZES/dm3.txt  \n",
            "  inflating: ChromHMM/CHROMSIZES/dm6.txt  \n",
            "  inflating: ChromHMM/CHROMSIZES/hg18.txt  \n",
            "  inflating: ChromHMM/CHROMSIZES/hg19.txt  \n",
            "  inflating: ChromHMM/CHROMSIZES/hg38.txt  \n",
            "  inflating: ChromHMM/CHROMSIZES/mm10.txt  \n",
            "  inflating: ChromHMM/CHROMSIZES/mm9.txt  \n",
            "  inflating: ChromHMM/CHROMSIZES/rn5.txt  \n",
            "  inflating: ChromHMM/CHROMSIZES/rn6.txt  \n",
            "   creating: ChromHMM/COORDS/\n",
            "   creating: ChromHMM/COORDS/ce10/\n",
            "  inflating: ChromHMM/COORDS/ce10/RefSeqExon.ce10.bed.gz  \n",
            "  inflating: ChromHMM/COORDS/ce10/RefSeqGene.ce10.bed.gz  \n",
            "  inflating: ChromHMM/COORDS/ce10/RefSeqTES.ce10.bed.gz  \n",
            "  inflating: ChromHMM/COORDS/ce10/RefSeqTSS.ce10.bed.gz  \n",
            "  inflating: ChromHMM/COORDS/ce10/RefSeqTSS2kb.ce10.bed.gz  \n",
            "   creating: ChromHMM/COORDS/ce11/\n",
            "  inflating: ChromHMM/COORDS/ce11/RefSeqExon.ce11.bed.gz  \n",
            "  inflating: ChromHMM/COORDS/ce11/RefSeqGene.ce11.bed.gz  \n",
            "  inflating: ChromHMM/COORDS/ce11/RefSeqTES.ce11.bed.gz  \n",
            "  inflating: ChromHMM/COORDS/ce11/RefSeqTSS.ce11.bed.gz  \n",
            "  inflating: ChromHMM/COORDS/ce11/RefSeqTSS2kb.ce11.bed.gz  \n",
            "   creating: ChromHMM/COORDS/ce6/\n",
            "  inflating: ChromHMM/COORDS/ce6/RefSeqExon.ce6.bed.gz  \n",
            "  inflating: ChromHMM/COORDS/ce6/RefSeqGene.ce6.bed.gz  \n",
            "  inflating: ChromHMM/COORDS/ce6/RefSeqTES.ce6.bed.gz  \n",
            "  inflating: ChromHMM/COORDS/ce6/RefSeqTSS.ce6.bed.gz  \n",
            "  inflating: ChromHMM/COORDS/ce6/RefSeqTSS2kb.ce6.bed.gz  \n",
            "   creating: ChromHMM/COORDS/danRer10/\n",
            "  inflating: ChromHMM/COORDS/danRer10/RefSeqExon.danRer10.bed.gz  \n",
            "  inflating: ChromHMM/COORDS/danRer10/RefSeqGene.danRer10.bed.gz  \n",
            "  inflating: ChromHMM/COORDS/danRer10/RefSeqTES.danRer10.bed.gz  \n",
            "  inflating: ChromHMM/COORDS/danRer10/RefSeqTSS.danRer10.bed.gz  \n",
            "  inflating: ChromHMM/COORDS/danRer10/RefSeqTSS2kb.danRer10.bed.gz  \n",
            "   creating: ChromHMM/COORDS/danRer11/\n",
            "  inflating: ChromHMM/COORDS/danRer11/RefSeqExon.danRer11.bed.gz  \n",
            "  inflating: ChromHMM/COORDS/danRer11/RefSeqGene.danRer11.bed.gz  \n",
            "  inflating: ChromHMM/COORDS/danRer11/RefSeqTES.danRer11.bed.gz  \n",
            "  inflating: ChromHMM/COORDS/danRer11/RefSeqTSS.danRer11.bed.gz  \n",
            "  inflating: ChromHMM/COORDS/danRer11/RefSeqTSS2kb.danRer11.bed.gz  \n",
            "   creating: ChromHMM/COORDS/danRer7/\n",
            "  inflating: ChromHMM/COORDS/danRer7/RefSeqExon.danRer7.bed.gz  \n",
            "  inflating: ChromHMM/COORDS/danRer7/RefSeqGene.danRer7.bed.gz  \n",
            "  inflating: ChromHMM/COORDS/danRer7/RefSeqTES.danRer7.bed.gz  \n",
            "  inflating: ChromHMM/COORDS/danRer7/RefSeqTSS.danRer7.bed.gz  \n",
            "  inflating: ChromHMM/COORDS/danRer7/RefSeqTSS2kb.danRer7.bed.gz  \n",
            "   creating: ChromHMM/COORDS/dm3/\n",
            "  inflating: ChromHMM/COORDS/dm3/RefSeqExon.dm3.bed.gz  \n",
            "  inflating: ChromHMM/COORDS/dm3/RefSeqGene.dm3.bed.gz  \n",
            "  inflating: ChromHMM/COORDS/dm3/RefSeqTES.dm3.bed.gz  \n",
            "  inflating: ChromHMM/COORDS/dm3/RefSeqTSS.dm3.bed.gz  \n",
            "  inflating: ChromHMM/COORDS/dm3/RefSeqTSS2kb.dm3.bed.gz  \n",
            "   creating: ChromHMM/COORDS/dm6/\n",
            "  inflating: ChromHMM/COORDS/dm6/RefSeqExon.dm6.bed.gz  \n",
            "  inflating: ChromHMM/COORDS/dm6/RefSeqGene.dm6.bed.gz  \n",
            "  inflating: ChromHMM/COORDS/dm6/RefSeqTES.dm6.bed.gz  \n",
            "  inflating: ChromHMM/COORDS/dm6/RefSeqTSS.dm6.bed.gz  \n",
            "  inflating: ChromHMM/COORDS/dm6/RefSeqTSS2kb.dm6.bed.gz  \n",
            "   creating: ChromHMM/COORDS/hg18/\n",
            "  inflating: ChromHMM/COORDS/hg18/CpGIsland.hg18.bed.gz  \n",
            " extracting: ChromHMM/COORDS/hg18/laminB1lads.hg18.bed.gz  \n",
            "  inflating: ChromHMM/COORDS/hg18/RefSeqExon.hg18.bed.gz  \n",
            "  inflating: ChromHMM/COORDS/hg18/RefSeqGene.hg18.bed.gz  \n",
            "  inflating: ChromHMM/COORDS/hg18/RefSeqTES.hg18.bed.gz  \n",
            "  inflating: ChromHMM/COORDS/hg18/RefSeqTSS.hg18.bed.gz  \n",
            "  inflating: ChromHMM/COORDS/hg18/RefSeqTSS2kb.hg18.bed.gz  \n",
            "   creating: ChromHMM/COORDS/hg19/\n",
            "  inflating: ChromHMM/COORDS/hg19/CpGIsland.hg19.bed.gz  \n",
            " extracting: ChromHMM/COORDS/hg19/laminB1lads.hg19.bed.gz  \n",
            "  inflating: ChromHMM/COORDS/hg19/RefSeqExon.hg19.bed.gz  \n",
            "  inflating: ChromHMM/COORDS/hg19/RefSeqGene.hg19.bed.gz  \n",
            "  inflating: ChromHMM/COORDS/hg19/RefSeqTES.hg19.bed.gz  \n",
            "  inflating: ChromHMM/COORDS/hg19/RefSeqTSS.hg19.bed.gz  \n",
            "  inflating: ChromHMM/COORDS/hg19/RefSeqTSS2kb.hg19.bed.gz  \n",
            "   creating: ChromHMM/COORDS/hg38/\n",
            "  inflating: ChromHMM/COORDS/hg38/CpGIsland.hg38.bed.gz  \n",
            "  inflating: ChromHMM/COORDS/hg38/RefSeqExon.hg38.bed.gz  \n",
            "  inflating: ChromHMM/COORDS/hg38/RefSeqGene.hg38.bed.gz  \n",
            "  inflating: ChromHMM/COORDS/hg38/RefSeqTES.hg38.bed.gz  \n",
            "  inflating: ChromHMM/COORDS/hg38/RefSeqTSS.hg38.bed.gz  \n",
            "  inflating: ChromHMM/COORDS/hg38/RefSeqTSS2kb.hg38.bed.gz  \n",
            "   creating: ChromHMM/COORDS/mm10/\n",
            "  inflating: ChromHMM/COORDS/mm10/CpGIsland.mm10.bed.gz  \n",
            "  inflating: ChromHMM/COORDS/mm10/RefSeqExon.mm10.bed.gz  \n",
            "  inflating: ChromHMM/COORDS/mm10/RefSeqGene.mm10.bed.gz  \n",
            "  inflating: ChromHMM/COORDS/mm10/RefSeqTES.mm10.bed.gz  \n",
            "  inflating: ChromHMM/COORDS/mm10/RefSeqTSS.mm10.bed.gz  \n",
            "  inflating: ChromHMM/COORDS/mm10/RefSeqTSS2kb.mm10.bed.gz  \n",
            "   creating: ChromHMM/COORDS/mm9/\n",
            "  inflating: ChromHMM/COORDS/mm9/CpGIsland.mm9.bed.gz  \n",
            "  inflating: ChromHMM/COORDS/mm9/RefSeqExon.mm9.bed.gz  \n",
            "  inflating: ChromHMM/COORDS/mm9/RefSeqGene.mm9.bed.gz  \n",
            "  inflating: ChromHMM/COORDS/mm9/RefSeqTES.mm9.bed.gz  \n",
            "  inflating: ChromHMM/COORDS/mm9/RefSeqTSS.mm9.bed.gz  \n",
            "  inflating: ChromHMM/COORDS/mm9/RefSeqTSS2kb.mm9.bed.gz  \n",
            "   creating: ChromHMM/COORDS/rn5/\n",
            "  inflating: ChromHMM/COORDS/rn5/CpGIsland.rn5.bed.gz  \n",
            "  inflating: ChromHMM/COORDS/rn5/RefSeqExon.rn5.bed.gz  \n",
            "  inflating: ChromHMM/COORDS/rn5/RefSeqGene.rn5.bed.gz  \n",
            "  inflating: ChromHMM/COORDS/rn5/RefSeqTES.rn5.bed.gz  \n",
            "  inflating: ChromHMM/COORDS/rn5/RefSeqTSS.rn5.bed.gz  \n",
            "  inflating: ChromHMM/COORDS/rn5/RefSeqTSS2kb.rn5.bed.gz  \n",
            "   creating: ChromHMM/COORDS/rn6/\n",
            "  inflating: ChromHMM/COORDS/rn6/CpGIsland.rn6.bed.gz  \n",
            "  inflating: ChromHMM/COORDS/rn6/RefSeqExon.rn6.bed.gz  \n",
            "  inflating: ChromHMM/COORDS/rn6/RefSeqGene.rn6.bed.gz  \n",
            "  inflating: ChromHMM/COORDS/rn6/RefSeqTES.rn6.bed.gz  \n",
            "  inflating: ChromHMM/COORDS/rn6/RefSeqTSS.rn6.bed.gz  \n",
            "  inflating: ChromHMM/COORDS/rn6/RefSeqTSS2kb.rn6.bed.gz  \n",
            "   creating: ChromHMM/SAMPLEDATA_HG18/\n",
            "  inflating: ChromHMM/SAMPLEDATA_HG18/GM12878_chr11_binary.txt.gz  \n",
            "  inflating: ChromHMM/SAMPLEDATA_HG18/K562_chr11_binary.txt.gz  \n",
            "   creating: ChromHMM/SRC/\n",
            "   creating: ChromHMM/SRC/edu/\n",
            "   creating: ChromHMM/SRC/edu/mit/\n",
            "   creating: ChromHMM/SRC/edu/mit/compbio/\n",
            "   creating: ChromHMM/SRC/edu/mit/compbio/ChromHMM/\n",
            "  inflating: ChromHMM/SRC/edu/mit/compbio/ChromHMM/BrowserOutput.java  \n",
            "  inflating: ChromHMM/SRC/edu/mit/compbio/ChromHMM/ChromHMM.java  \n",
            "  inflating: ChromHMM/SRC/edu/mit/compbio/ChromHMM/ConvertGeneTable.java  \n",
            "  inflating: ChromHMM/SRC/edu/mit/compbio/ChromHMM/NestedEliminateInitialize.java  \n",
            "  inflating: ChromHMM/SRC/edu/mit/compbio/ChromHMM/Preprocessing.java  \n",
            "  inflating: ChromHMM/SRC/edu/mit/compbio/ChromHMM/StateAnalysis.java  \n",
            "  inflating: ChromHMM/SRC/edu/mit/compbio/ChromHMM/Util.java  \n",
            "   creating: ChromHMM/SRC/org/\n",
            "   creating: ChromHMM/SRC/org/tc33/\n",
            "   creating: ChromHMM/SRC/org/tc33/jheatchart/\n",
            "  inflating: ChromHMM/SRC/org/tc33/jheatchart/HeatChart.java  \n"
          ]
        }
      ]
    },
    {
      "cell_type": "markdown",
      "source": [
        "## Скачиваем файлы"
      ],
      "metadata": {
        "id": "k80uGrS5quq1"
      }
    },
    {
      "cell_type": "code",
      "source": [
        "#контроль\n",
        "! wget http://hgdownload.cse.ucsc.edu/goldenPath/hg19/encodeDCC/wgEncodeBroadHistone/wgEncodeBroadHistoneHuvecControlStdAlnRep1.bam -O ControlStdAlnRep1.bam\n",
        "#1\n",
        "! wget http://hgdownload.cse.ucsc.edu/goldenPath/hg19/encodeDCC/wgEncodeBroadHistone/wgEncodeBroadHistoneHuvecH3k4me1StdAlnRep1.bam -O H3k4me1StdAlnRep1.bam\n",
        "#2\n",
        "! wget http://hgdownload.cse.ucsc.edu/goldenPath/hg19/encodeDCC/wgEncodeBroadHistone/wgEncodeBroadHistoneHuvecH3k4me3StdAlnRep1.bam -O H3k4me3StdAlnRep1.bam\n",
        "#3\n",
        "! wget http://hgdownload.cse.ucsc.edu/goldenPath/hg19/encodeDCC/wgEncodeBroadHistone/wgEncodeBroadHistoneHuvecH3k9acStdAlnRep1.bam -O H3k9acStdAlnRep1.bam\n",
        "#4\n",
        "! wget http://hgdownload.cse.ucsc.edu/goldenPath/hg19/encodeDCC/wgEncodeBroadHistone/wgEncodeBroadHistoneHuvecH3k9me1StdAlnRep1.bam -O H3k9me1StdAlnRep1.bam\n",
        "#5\n",
        "! wget http://hgdownload.cse.ucsc.edu/goldenPath/hg19/encodeDCC/wgEncodeBroadHistone/wgEncodeBroadHistoneHuvecH3k27acStdAlnRep1.bam -O H3k27acStdAlnRep1.bam\n",
        "#6\n",
        "! wget http://hgdownload.cse.ucsc.edu/goldenPath/hg19/encodeDCC/wgEncodeBroadHistone/wgEncodeBroadHistoneHuvecH3k27me3StdAlnRep1.bam -O H3k27me3StdAlnRep1.bam\n",
        "#7\n",
        "! wget http://hgdownload.cse.ucsc.edu/goldenPath/hg19/encodeDCC/wgEncodeBroadHistone/wgEncodeBroadHistoneHuvecH3k36me3StdAlnRep1.bam -O H3k36me3StdAlnRep1.bam\n",
        "#8\n",
        "! wget http://hgdownload.cse.ucsc.edu/goldenPath/hg19/encodeDCC/wgEncodeBroadHistone/wgEncodeBroadHistoneHuvecH3k79me2AlnRep1.bam -O H3k79me2AlnRep1.bam\n",
        "#9\n",
        "! wget http://hgdownload.cse.ucsc.edu/goldenPath/hg19/encodeDCC/wgEncodeBroadHistone/wgEncodeBroadHistoneHuvecH4k20me1StdAlnRep1.bam -O H4k20me1StdAlnRep1.bam\n",
        "#10\n",
        "! wget http://hgdownload.cse.ucsc.edu/goldenPath/hg19/encodeDCC/wgEncodeBroadHistone/wgEncodeBroadHistoneHuvecPol2bStdAlnRep1.bam -O Pol2bStdAlnRep1.bam\n",
        "\n"
      ],
      "metadata": {
        "id": "PSWbbv8wcFUY",
        "colab": {
          "base_uri": "https://localhost:8080/"
        },
        "outputId": "0660b460-ce23-4349-a69d-00e9cdb2dd33"
      },
      "execution_count": 6,
      "outputs": [
        {
          "output_type": "stream",
          "name": "stdout",
          "text": [
            "--2022-03-27 17:04:21--  http://hgdownload.cse.ucsc.edu/goldenPath/hg19/encodeDCC/wgEncodeBroadHistone/wgEncodeBroadHistoneHuvecControlStdAlnRep1.bam\n",
            "Resolving hgdownload.cse.ucsc.edu (hgdownload.cse.ucsc.edu)... 128.114.119.163\n",
            "Connecting to hgdownload.cse.ucsc.edu (hgdownload.cse.ucsc.edu)|128.114.119.163|:80... connected.\n",
            "HTTP request sent, awaiting response... 200 OK\n",
            "Length: 442630974 (422M) [application/octet-stream]\n",
            "Saving to: ‘ControlStdAlnRep1.bam’\n",
            "\n",
            "ControlStdAlnRep1.b 100%[===================>] 422.12M  17.0MB/s    in 28s     \n",
            "\n",
            "2022-03-27 17:04:50 (15.0 MB/s) - ‘ControlStdAlnRep1.bam’ saved [442630974/442630974]\n",
            "\n",
            "--2022-03-27 17:04:50--  http://hgdownload.cse.ucsc.edu/goldenPath/hg19/encodeDCC/wgEncodeBroadHistone/wgEncodeBroadHistoneHuvecH3k4me1StdAlnRep1.bam\n",
            "Resolving hgdownload.cse.ucsc.edu (hgdownload.cse.ucsc.edu)... 128.114.119.163\n",
            "Connecting to hgdownload.cse.ucsc.edu (hgdownload.cse.ucsc.edu)|128.114.119.163|:80... connected.\n",
            "HTTP request sent, awaiting response... 200 OK\n",
            "Length: 965744513 (921M) [application/octet-stream]\n",
            "Saving to: ‘H3k4me1StdAlnRep1.bam’\n",
            "\n",
            "H3k4me1StdAlnRep1.b 100%[===================>] 921.00M  18.0MB/s    in 58s     \n",
            "\n",
            "2022-03-27 17:05:48 (16.0 MB/s) - ‘H3k4me1StdAlnRep1.bam’ saved [965744513/965744513]\n",
            "\n",
            "--2022-03-27 17:05:48--  http://hgdownload.cse.ucsc.edu/goldenPath/hg19/encodeDCC/wgEncodeBroadHistone/wgEncodeBroadHistoneHuvecH3k4me3StdAlnRep1.bam\n",
            "Resolving hgdownload.cse.ucsc.edu (hgdownload.cse.ucsc.edu)... 128.114.119.163\n",
            "Connecting to hgdownload.cse.ucsc.edu (hgdownload.cse.ucsc.edu)|128.114.119.163|:80... connected.\n",
            "HTTP request sent, awaiting response... 200 OK\n",
            "Length: 781241314 (745M) [application/octet-stream]\n",
            "Saving to: ‘H3k4me3StdAlnRep1.bam’\n",
            "\n",
            "H3k4me3StdAlnRep1.b 100%[===================>] 745.05M  17.5MB/s    in 45s     \n",
            "\n",
            "2022-03-27 17:06:33 (16.5 MB/s) - ‘H3k4me3StdAlnRep1.bam’ saved [781241314/781241314]\n",
            "\n",
            "--2022-03-27 17:06:33--  http://hgdownload.cse.ucsc.edu/goldenPath/hg19/encodeDCC/wgEncodeBroadHistone/wgEncodeBroadHistoneHuvecH3k9acStdAlnRep1.bam\n",
            "Resolving hgdownload.cse.ucsc.edu (hgdownload.cse.ucsc.edu)... 128.114.119.163\n",
            "Connecting to hgdownload.cse.ucsc.edu (hgdownload.cse.ucsc.edu)|128.114.119.163|:80... connected.\n",
            "HTTP request sent, awaiting response... 200 OK\n",
            "Length: 518774204 (495M) [application/octet-stream]\n",
            "Saving to: ‘H3k9acStdAlnRep1.bam’\n",
            "\n",
            "H3k9acStdAlnRep1.ba 100%[===================>] 494.74M  18.0MB/s    in 29s     \n",
            "\n",
            "2022-03-27 17:07:03 (16.8 MB/s) - ‘H3k9acStdAlnRep1.bam’ saved [518774204/518774204]\n",
            "\n",
            "--2022-03-27 17:07:03--  http://hgdownload.cse.ucsc.edu/goldenPath/hg19/encodeDCC/wgEncodeBroadHistone/wgEncodeBroadHistoneHuvecH3k9me1StdAlnRep1.bam\n",
            "Resolving hgdownload.cse.ucsc.edu (hgdownload.cse.ucsc.edu)... 128.114.119.163\n",
            "Connecting to hgdownload.cse.ucsc.edu (hgdownload.cse.ucsc.edu)|128.114.119.163|:80... connected.\n",
            "HTTP request sent, awaiting response... 200 OK\n",
            "Length: 619368144 (591M) [application/octet-stream]\n",
            "Saving to: ‘H3k9me1StdAlnRep1.bam’\n",
            "\n",
            "H3k9me1StdAlnRep1.b 100%[===================>] 590.67M  16.8MB/s    in 41s     \n",
            "\n",
            "2022-03-27 17:07:45 (14.6 MB/s) - ‘H3k9me1StdAlnRep1.bam’ saved [619368144/619368144]\n",
            "\n",
            "--2022-03-27 17:07:45--  http://hgdownload.cse.ucsc.edu/goldenPath/hg19/encodeDCC/wgEncodeBroadHistone/wgEncodeBroadHistoneHuvecH3k27acStdAlnRep1.bam\n",
            "Resolving hgdownload.cse.ucsc.edu (hgdownload.cse.ucsc.edu)... 128.114.119.163\n",
            "Connecting to hgdownload.cse.ucsc.edu (hgdownload.cse.ucsc.edu)|128.114.119.163|:80... connected.\n",
            "HTTP request sent, awaiting response... 200 OK\n",
            "Length: 711226413 (678M) [application/octet-stream]\n",
            "Saving to: ‘H3k27acStdAlnRep1.bam’\n",
            "\n",
            "H3k27acStdAlnRep1.b 100%[===================>] 678.28M  17.1MB/s    in 40s     \n",
            "\n",
            "2022-03-27 17:08:25 (16.9 MB/s) - ‘H3k27acStdAlnRep1.bam’ saved [711226413/711226413]\n",
            "\n",
            "--2022-03-27 17:08:25--  http://hgdownload.cse.ucsc.edu/goldenPath/hg19/encodeDCC/wgEncodeBroadHistone/wgEncodeBroadHistoneHuvecH3k27me3StdAlnRep1.bam\n",
            "Resolving hgdownload.cse.ucsc.edu (hgdownload.cse.ucsc.edu)... 128.114.119.163\n",
            "Connecting to hgdownload.cse.ucsc.edu (hgdownload.cse.ucsc.edu)|128.114.119.163|:80... connected.\n",
            "HTTP request sent, awaiting response... 200 OK\n",
            "Length: 870914699 (831M) [application/octet-stream]\n",
            "Saving to: ‘H3k27me3StdAlnRep1.bam’\n",
            "\n",
            "H3k27me3StdAlnRep1. 100%[===================>] 830.57M  18.6MB/s    in 49s     \n",
            "\n",
            "2022-03-27 17:09:15 (16.8 MB/s) - ‘H3k27me3StdAlnRep1.bam’ saved [870914699/870914699]\n",
            "\n",
            "--2022-03-27 17:09:15--  http://hgdownload.cse.ucsc.edu/goldenPath/hg19/encodeDCC/wgEncodeBroadHistone/wgEncodeBroadHistoneHuvecH3k36me3StdAlnRep1.bam\n",
            "Resolving hgdownload.cse.ucsc.edu (hgdownload.cse.ucsc.edu)... 128.114.119.163\n",
            "Connecting to hgdownload.cse.ucsc.edu (hgdownload.cse.ucsc.edu)|128.114.119.163|:80... connected.\n",
            "HTTP request sent, awaiting response... 200 OK\n",
            "Length: 919242640 (877M) [application/octet-stream]\n",
            "Saving to: ‘H3k36me3StdAlnRep1.bam’\n",
            "\n",
            "H3k36me3StdAlnRep1. 100%[===================>] 876.66M  17.9MB/s    in 51s     \n",
            "\n",
            "2022-03-27 17:10:07 (17.2 MB/s) - ‘H3k36me3StdAlnRep1.bam’ saved [919242640/919242640]\n",
            "\n",
            "--2022-03-27 17:10:07--  http://hgdownload.cse.ucsc.edu/goldenPath/hg19/encodeDCC/wgEncodeBroadHistone/wgEncodeBroadHistoneHuvecH3k79me2AlnRep1.bam\n",
            "Resolving hgdownload.cse.ucsc.edu (hgdownload.cse.ucsc.edu)... 128.114.119.163\n",
            "Connecting to hgdownload.cse.ucsc.edu (hgdownload.cse.ucsc.edu)|128.114.119.163|:80... connected.\n",
            "HTTP request sent, awaiting response... 200 OK\n",
            "Length: 912489410 (870M) [application/octet-stream]\n",
            "Saving to: ‘H3k79me2AlnRep1.bam’\n",
            "\n",
            "H3k79me2AlnRep1.bam 100%[===================>] 870.22M  18.5MB/s    in 51s     \n",
            "\n",
            "2022-03-27 17:10:58 (17.2 MB/s) - ‘H3k79me2AlnRep1.bam’ saved [912489410/912489410]\n",
            "\n",
            "--2022-03-27 17:10:58--  http://hgdownload.cse.ucsc.edu/goldenPath/hg19/encodeDCC/wgEncodeBroadHistone/wgEncodeBroadHistoneHuvecH4k20me1StdAlnRep1.bam\n",
            "Resolving hgdownload.cse.ucsc.edu (hgdownload.cse.ucsc.edu)... 128.114.119.163\n",
            "Connecting to hgdownload.cse.ucsc.edu (hgdownload.cse.ucsc.edu)|128.114.119.163|:80... connected.\n",
            "HTTP request sent, awaiting response... 200 OK\n",
            "Length: 651165377 (621M) [application/octet-stream]\n",
            "Saving to: ‘H4k20me1StdAlnRep1.bam’\n",
            "\n",
            "H4k20me1StdAlnRep1. 100%[===================>] 621.00M  18.4MB/s    in 36s     \n",
            "\n",
            "2022-03-27 17:11:35 (17.1 MB/s) - ‘H4k20me1StdAlnRep1.bam’ saved [651165377/651165377]\n",
            "\n",
            "--2022-03-27 17:11:35--  http://hgdownload.cse.ucsc.edu/goldenPath/hg19/encodeDCC/wgEncodeBroadHistone/wgEncodeBroadHistoneHuvecPol2bStdAlnRep1.bam\n",
            "Resolving hgdownload.cse.ucsc.edu (hgdownload.cse.ucsc.edu)... 128.114.119.163\n",
            "Connecting to hgdownload.cse.ucsc.edu (hgdownload.cse.ucsc.edu)|128.114.119.163|:80... connected.\n",
            "HTTP request sent, awaiting response... 200 OK\n",
            "Length: 674156478 (643M) [application/octet-stream]\n",
            "Saving to: ‘Pol2bStdAlnRep1.bam’\n",
            "\n",
            "Pol2bStdAlnRep1.bam 100%[===================>] 642.92M  18.0MB/s    in 38s     \n",
            "\n",
            "2022-03-27 17:12:13 (17.0 MB/s) - ‘Pol2bStdAlnRep1.bam’ saved [674156478/674156478]\n",
            "\n"
          ]
        }
      ]
    },
    {
      "cell_type": "markdown",
      "source": [
        "* Вручную создаем текстовый файл cellmarkfiletable.txt, в котором указываем название типа клеток, разных гистоновых меток, а также соответствующие .bam файлы для эксперимента и контроля. Один и тот же контрольный файл .bam может быть использован для всех экспериментов.\n",
        "\n",
        "* Более подробно о содержании файла cellmarkfiletable.txt можно посмотреть в руководстве пользователя ChromHMM\n",
        "\n",
        "* Файл cellmarkfiletable.txt добавляем в github репозиторий для отчета"
      ],
      "metadata": {
        "id": "asjMJ26h79SY"
      }
    },
    {
      "cell_type": "markdown",
      "source": [
        "Запускаем ChromHMM с опцией BinarizeBam, чтобы конвертировать профили из ChIP-seq экспериментов (bam-файлы) в табличку из 0 и 1, т.е. чтобы сделать разбивку генома на условные интервалы (бины) длиной 200 п.о.\n",
        "Для 11 меток программа работает около 5 мин\n"
      ],
      "metadata": {
        "id": "WeoRL3rp728b"
      }
    },
    {
      "cell_type": "code",
      "source": [
        "!java -mx5000M -jar /content/ChromHMM/ChromHMM.jar BinarizeBam -b 200  /content/ChromHMM/CHROMSIZES/hg19.txt /content/ cellmarkfiletable.txt   binarizedData\n"
      ],
      "metadata": {
        "colab": {
          "base_uri": "https://localhost:8080/"
        },
        "id": "GcVBvuQZfzb8",
        "outputId": "7eab401b-a02e-46c1-b56a-cd8c4b83eb7b"
      },
      "execution_count": 17,
      "outputs": [
        {
          "output_type": "stream",
          "name": "stdout",
          "text": [
            "Writing to file binarizedData/HUVEC_chr1_binary.txt\n",
            "Writing to file binarizedData/HUVEC_chr2_binary.txt\n",
            "Writing to file binarizedData/HUVEC_chr3_binary.txt\n",
            "Writing to file binarizedData/HUVEC_chr4_binary.txt\n",
            "Writing to file binarizedData/HUVEC_chr5_binary.txt\n",
            "Writing to file binarizedData/HUVEC_chr6_binary.txt\n",
            "Writing to file binarizedData/HUVEC_chr7_binary.txt\n",
            "Writing to file binarizedData/HUVEC_chrX_binary.txt\n",
            "Writing to file binarizedData/HUVEC_chr8_binary.txt\n",
            "Writing to file binarizedData/HUVEC_chr9_binary.txt\n",
            "Writing to file binarizedData/HUVEC_chr10_binary.txt\n",
            "Writing to file binarizedData/HUVEC_chr11_binary.txt\n",
            "Writing to file binarizedData/HUVEC_chr12_binary.txt\n",
            "Writing to file binarizedData/HUVEC_chr13_binary.txt\n",
            "Writing to file binarizedData/HUVEC_chr14_binary.txt\n",
            "Writing to file binarizedData/HUVEC_chr15_binary.txt\n",
            "Writing to file binarizedData/HUVEC_chr16_binary.txt\n",
            "Writing to file binarizedData/HUVEC_chr17_binary.txt\n",
            "Writing to file binarizedData/HUVEC_chr18_binary.txt\n",
            "Writing to file binarizedData/HUVEC_chr20_binary.txt\n",
            "Writing to file binarizedData/HUVEC_chrY_binary.txt\n",
            "Writing to file binarizedData/HUVEC_chr19_binary.txt\n",
            "Writing to file binarizedData/HUVEC_chr22_binary.txt\n",
            "Writing to file binarizedData/HUVEC_chr21_binary.txt\n",
            "Writing to file binarizedData/HUVEC_chrM_binary.txt\n"
          ]
        }
      ]
    },
    {
      "cell_type": "markdown",
      "source": [
        "Запускаем ChromHMM с опцией LearnModel (см. руководство пользователя), которая автоматически определит параметры N разных эпигенетических типов с наиболее выраженными наборами гистоновых меток и присвоит каждому геномному интервалу определенный эпигенетический тип. Количество разных эпигенетических типов (или состояний) выбираете сами (например 10 штук).\n",
        "Не забудьте, что мы работаем с версией референсного генома человека hg19\n",
        "Для 11 меток программа работает около 10 минут\n"
      ],
      "metadata": {
        "id": "Yo11TtNG8SXU"
      }
    },
    {
      "cell_type": "code",
      "source": [
        "!java -mx5000M -jar /content/ChromHMM/ChromHMM.jar LearnModel  /content/binarizedData /content/res 10 hg19"
      ],
      "metadata": {
        "colab": {
          "base_uri": "https://localhost:8080/"
        },
        "id": "nxJqZP8mZnu-",
        "outputId": "3f6ee2d1-8292-410d-b5a0-2859724ee0a3"
      },
      "execution_count": 19,
      "outputs": [
        {
          "output_type": "stream",
          "name": "stdout",
          "text": [
            "Writing to file /content/res/transitions_10.txt\n",
            "Writing to file /content/res/emissions_10.txt\n",
            "Writing to file /content/res/emissions_10.svg\n",
            "Writing to file /content/res/emissions_10.png\n",
            "Writing to file /content/res/transitions_10.png\n",
            "Writing to file /content/res/transitions_10.svg\n",
            "Writing to file /content/res/model_10.txt\n",
            " Iteration  Estimated Log Likelihood     Change    Total Time (secs)\n",
            "         1              -9815156.541          -                 16.1\n",
            "         2              -8380952.671 1434203.870                 33.1\n",
            "         3              -8075739.217 305213.453                 47.8\n",
            "         4              -7953738.999 122000.218                 61.3\n",
            "         5              -7907719.601  46019.398                 73.8\n",
            "         6              -7889388.272  18331.329                 85.5\n",
            "         7              -7881256.512   8131.760                 97.1\n",
            "         8              -7877215.571   4040.942                114.3\n",
            "         9              -7875117.036   2098.535                124.8\n",
            "        10              -7873821.793   1295.243                142.5\n",
            "        11              -7872668.048   1153.745                155.1\n",
            "        12              -7871107.750   1560.298                167.5\n",
            "        13              -7859502.175  11605.575                179.9\n",
            "        14              -7835026.856  24475.318                192.4\n",
            "        15              -7821741.353  13285.503                205.4\n",
            "        16              -7811035.495  10705.858                218.2\n",
            "        17              -7801930.880   9104.615                228.9\n",
            "        18              -7796933.544   4997.335                239.5\n",
            "        19              -7794346.868   2586.677                250.1\n",
            "        20              -7792657.241   1689.627                260.6\n",
            "        21              -7791351.120   1306.121                271.2\n",
            "        22              -7790262.200   1088.919                281.8\n",
            "        23              -7789307.025    955.175                292.3\n",
            "        24              -7788445.018    862.007                302.9\n",
            "        25              -7787678.091    766.926                313.5\n",
            "        26              -7786997.547    680.545                324.0\n",
            "        27              -7786395.961    601.586                334.6\n",
            "        28              -7785865.764    530.197                345.2\n",
            "        29              -7785406.330    459.434                355.9\n",
            "        30              -7785015.280    391.050                366.7\n",
            "        31              -7784683.631    331.649                377.4\n",
            "        32              -7784400.171    283.459                388.1\n",
            "        33              -7784159.335    240.836                398.9\n",
            "        34              -7783956.969    202.366                409.6\n",
            "        35              -7783787.542    169.427                420.4\n",
            "        36              -7783646.717    140.826                431.1\n",
            "        37              -7783530.112    116.604                441.7\n",
            "        38              -7783433.597     96.516                452.5\n",
            "        39              -7783353.751     79.846                463.3\n",
            "        40              -7783287.654     66.097                474.0\n",
            "        41              -7783232.733     54.921                484.9\n",
            "        42              -7783186.775     45.958                495.6\n",
            "        43              -7783148.179     38.595                506.3\n",
            "        44              -7783115.800     32.379                517.1\n",
            "        45              -7783088.819     26.981                527.9\n",
            "        46              -7783066.355     22.464                538.7\n",
            "        47              -7783047.666     18.689                549.5\n",
            "        48              -7783032.111     15.555                560.3\n",
            "        49              -7783019.151     12.960                571.1\n",
            "        50              -7783008.340     10.811                582.0\n",
            "        51              -7782999.308      9.031                592.9\n",
            "        52              -7782991.750      7.559                603.7\n",
            "        53              -7782985.411      6.339                614.6\n",
            "        54              -7782980.079      5.332                625.4\n",
            "        55              -7782975.580      4.500                636.2\n",
            "        56              -7782971.767      3.813                647.1\n",
            "        57              -7782968.519      3.248                657.9\n",
            "        58              -7782965.735      2.784                668.7\n",
            "        59              -7782963.330      2.406                679.4\n",
            "        60              -7782961.227      2.102                690.3\n",
            "        61              -7782959.363      1.865                701.0\n",
            "        62              -7782957.676      1.687                711.7\n",
            "        63              -7782956.113      1.563                724.2\n",
            "        64              -7782954.627      1.486                735.0\n",
            "        65              -7782953.194      1.433                745.7\n",
            "        66              -7782951.837      1.357                756.5\n",
            "        67              -7782950.621      1.216                767.6\n",
            "        68              -7782949.590      1.031                778.3\n",
            "        69              -7782948.718      0.873                789.2\n",
            "        70              -7782947.947      0.771                800.5\n",
            "        71              -7782947.249      0.698                811.7\n",
            "        72              -7782946.615      0.634                823.1\n",
            "        73              -7782946.046      0.569                834.2\n",
            "        74              -7782945.541      0.505                845.4\n",
            "        75              -7782945.096      0.445                856.6\n",
            "        76              -7782944.707      0.389                867.7\n",
            "        77              -7782944.369      0.338                879.0\n",
            "        78              -7782944.076      0.293                890.2\n",
            "        79              -7782943.822      0.254                901.4\n",
            "        80              -7782943.603      0.219                912.5\n",
            "        81              -7782943.414      0.189                923.7\n",
            "        82              -7782943.251      0.163                934.8\n",
            "        83              -7782943.111      0.140                946.0\n",
            "        84              -7782942.990      0.121                957.2\n",
            "        85              -7782942.886      0.104                968.4\n",
            "        86              -7782942.796      0.089                979.6\n",
            "        87              -7782942.720      0.077                990.8\n",
            "        88              -7782942.653      0.066               1002.0\n",
            "        89              -7782942.596      0.057               1013.6\n",
            "        90              -7782942.547      0.049               1025.3\n",
            "        91              -7782942.505      0.042               1036.7\n",
            "        92              -7782942.468      0.036               1047.8\n",
            "        93              -7782942.437      0.031               1059.0\n",
            "        94              -7782942.410      0.027               1070.2\n",
            "        95              -7782942.387      0.023               1081.5\n",
            "        96              -7782942.367      0.020               1092.7\n",
            "        97              -7782942.349      0.017               1104.0\n",
            "        98              -7782942.335      0.015               1115.2\n",
            "        99              -7782942.322      0.013               1126.6\n",
            "       100              -7782942.310      0.011               1137.8\n",
            "       101              -7782942.301      0.010               1149.0\n",
            "       102              -7782942.292      0.009               1160.6\n",
            "       103              -7782942.285      0.007               1171.8\n",
            "       104              -7782942.279      0.006               1183.3\n",
            "       105              -7782942.273      0.005               1194.5\n",
            "       106              -7782942.268      0.005               1205.7\n",
            "       107              -7782942.264      0.004               1216.9\n",
            "       108              -7782942.261      0.004               1228.0\n",
            "       109              -7782942.258      0.003               1239.3\n",
            "       110              -7782942.255      0.003               1250.4\n",
            "       111              -7782942.253      0.002               1261.7\n",
            "       112              -7782942.251      0.002               1272.9\n",
            "       113              -7782942.249      0.002               1284.0\n",
            "       114              -7782942.247      0.002               1295.2\n",
            "       115              -7782942.246      0.001               1306.4\n",
            "       116              -7782942.245      0.001               1317.7\n",
            "       117              -7782942.244      0.001               1329.0\n",
            "       118              -7782942.242      0.001               1340.2\n",
            "       119              -7782942.242      0.001               1351.4\n",
            "Writing to file /content/res/HUVEC_10_segments.bed\n",
            "Writing to file /content/res/HUVEC_10_dense.bed\n",
            "Writing to file /content/res/HUVEC_10_expanded.bed\n",
            "Writing to file /content/res/HUVEC_10_overlap.txt\n",
            "Writing to file /content/res/HUVEC_10_overlap.png\n",
            "Writing to file /content/res/HUVEC_10_overlap.svg\n",
            "Writing to file /content/res/HUVEC_10_RefSeqTSS_neighborhood.txt\n",
            "Writing to file /content/res/HUVEC_10_RefSeqTSS_neighborhood.png\n",
            "Writing to file /content/res/HUVEC_10_RefSeqTSS_neighborhood.svg\n",
            "Writing to file /content/res/HUVEC_10_RefSeqTES_neighborhood.txt\n",
            "Writing to file /content/res/HUVEC_10_RefSeqTES_neighborhood.png\n",
            "Writing to file /content/res/HUVEC_10_RefSeqTES_neighborhood.svg\n",
            "Warning could not automatically open in a browser /content/res/webpage_10.html\n"
          ]
        }
      ]
    },
    {
      "cell_type": "markdown",
      "source": [
        "В результате выполнения команды LearnModel будет создан набор файлов (в том числе HTML страничка) в папке выдачи, которая была указана при запуске. Скачиваем эту папку себе на копьютер и открываем HTML файл.\n",
        "\n",
        "Дальнейшие инстркции -- см. в описании ДЗ"
      ],
      "metadata": {
        "id": "7yuCmmw-gsFC"
      }
    }
  ]
}